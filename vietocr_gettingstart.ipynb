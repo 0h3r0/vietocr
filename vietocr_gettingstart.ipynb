{
  "nbformat": 4,
  "nbformat_minor": 0,
  "metadata": {
    "accelerator": "GPU",
    "colab": {
      "name": "vietocr_gettingstart.ipynb",
      "provenance": [],
      "include_colab_link": true
    },
    "kernelspec": {
      "display_name": "Python 3",
      "language": "python",
      "name": "python3"
    },
    "language_info": {
      "codemirror_mode": {
        "name": "ipython",
        "version": 3
      },
      "file_extension": ".py",
      "mimetype": "text/x-python",
      "name": "python",
      "nbconvert_exporter": "python",
      "pygments_lexer": "ipython3",
      "version": "3.7.4"
    },
    "widgets": {
      "application/vnd.jupyter.widget-state+json": {
        "252518623fb4488197375100b68f8be0": {
          "model_module": "@jupyter-widgets/controls",
          "model_name": "HBoxModel",
          "state": {
            "_view_name": "HBoxView",
            "_dom_classes": [],
            "_model_name": "HBoxModel",
            "_view_module": "@jupyter-widgets/controls",
            "_model_module_version": "1.5.0",
            "_view_count": null,
            "_view_module_version": "1.5.0",
            "box_style": "",
            "layout": "IPY_MODEL_bb125d7d215d4718b2469c2fc45b6316",
            "_model_module": "@jupyter-widgets/controls",
            "children": [
              "IPY_MODEL_4504aeeffe244db398a18e0b1a28f1b9",
              "IPY_MODEL_f4db31aaea044ba9bd00fe08362b68b9"
            ]
          }
        },
        "bb125d7d215d4718b2469c2fc45b6316": {
          "model_module": "@jupyter-widgets/base",
          "model_name": "LayoutModel",
          "state": {
            "_view_name": "LayoutView",
            "grid_template_rows": null,
            "right": null,
            "justify_content": null,
            "_view_module": "@jupyter-widgets/base",
            "overflow": null,
            "_model_module_version": "1.2.0",
            "_view_count": null,
            "flex_flow": null,
            "width": null,
            "min_width": null,
            "border": null,
            "align_items": null,
            "bottom": null,
            "_model_module": "@jupyter-widgets/base",
            "top": null,
            "grid_column": null,
            "overflow_y": null,
            "overflow_x": null,
            "grid_auto_flow": null,
            "grid_area": null,
            "grid_template_columns": null,
            "flex": null,
            "_model_name": "LayoutModel",
            "justify_items": null,
            "grid_row": null,
            "max_height": null,
            "align_content": null,
            "visibility": null,
            "align_self": null,
            "height": null,
            "min_height": null,
            "padding": null,
            "grid_auto_rows": null,
            "grid_gap": null,
            "max_width": null,
            "order": null,
            "_view_module_version": "1.2.0",
            "grid_template_areas": null,
            "object_position": null,
            "object_fit": null,
            "grid_auto_columns": null,
            "margin": null,
            "display": null,
            "left": null
          }
        },
        "4504aeeffe244db398a18e0b1a28f1b9": {
          "model_module": "@jupyter-widgets/controls",
          "model_name": "FloatProgressModel",
          "state": {
            "_view_name": "ProgressView",
            "style": "IPY_MODEL_ea91bf2c0275458e994046f24135fdb0",
            "_dom_classes": [],
            "description": "100%",
            "_model_name": "FloatProgressModel",
            "bar_style": "success",
            "max": 574769405,
            "_view_module": "@jupyter-widgets/controls",
            "_model_module_version": "1.5.0",
            "value": 574769405,
            "_view_count": null,
            "_view_module_version": "1.5.0",
            "orientation": "horizontal",
            "min": 0,
            "description_tooltip": null,
            "_model_module": "@jupyter-widgets/controls",
            "layout": "IPY_MODEL_e4412677cf3c4fc1a3fd37d73bee042c"
          }
        },
        "f4db31aaea044ba9bd00fe08362b68b9": {
          "model_module": "@jupyter-widgets/controls",
          "model_name": "HTMLModel",
          "state": {
            "_view_name": "HTMLView",
            "style": "IPY_MODEL_3f6b754f5d5f4407b2e139d44aa16d78",
            "_dom_classes": [],
            "description": "",
            "_model_name": "HTMLModel",
            "placeholder": "​",
            "_view_module": "@jupyter-widgets/controls",
            "_model_module_version": "1.5.0",
            "value": " 548M/548M [06:38&lt;00:00, 1.44MB/s]",
            "_view_count": null,
            "_view_module_version": "1.5.0",
            "description_tooltip": null,
            "_model_module": "@jupyter-widgets/controls",
            "layout": "IPY_MODEL_4b85d281b00d4da3a5658a85a750ea0a"
          }
        },
        "ea91bf2c0275458e994046f24135fdb0": {
          "model_module": "@jupyter-widgets/controls",
          "model_name": "ProgressStyleModel",
          "state": {
            "_view_name": "StyleView",
            "_model_name": "ProgressStyleModel",
            "description_width": "initial",
            "_view_module": "@jupyter-widgets/base",
            "_model_module_version": "1.5.0",
            "_view_count": null,
            "_view_module_version": "1.2.0",
            "bar_color": null,
            "_model_module": "@jupyter-widgets/controls"
          }
        },
        "e4412677cf3c4fc1a3fd37d73bee042c": {
          "model_module": "@jupyter-widgets/base",
          "model_name": "LayoutModel",
          "state": {
            "_view_name": "LayoutView",
            "grid_template_rows": null,
            "right": null,
            "justify_content": null,
            "_view_module": "@jupyter-widgets/base",
            "overflow": null,
            "_model_module_version": "1.2.0",
            "_view_count": null,
            "flex_flow": null,
            "width": null,
            "min_width": null,
            "border": null,
            "align_items": null,
            "bottom": null,
            "_model_module": "@jupyter-widgets/base",
            "top": null,
            "grid_column": null,
            "overflow_y": null,
            "overflow_x": null,
            "grid_auto_flow": null,
            "grid_area": null,
            "grid_template_columns": null,
            "flex": null,
            "_model_name": "LayoutModel",
            "justify_items": null,
            "grid_row": null,
            "max_height": null,
            "align_content": null,
            "visibility": null,
            "align_self": null,
            "height": null,
            "min_height": null,
            "padding": null,
            "grid_auto_rows": null,
            "grid_gap": null,
            "max_width": null,
            "order": null,
            "_view_module_version": "1.2.0",
            "grid_template_areas": null,
            "object_position": null,
            "object_fit": null,
            "grid_auto_columns": null,
            "margin": null,
            "display": null,
            "left": null
          }
        },
        "3f6b754f5d5f4407b2e139d44aa16d78": {
          "model_module": "@jupyter-widgets/controls",
          "model_name": "DescriptionStyleModel",
          "state": {
            "_view_name": "StyleView",
            "_model_name": "DescriptionStyleModel",
            "description_width": "",
            "_view_module": "@jupyter-widgets/base",
            "_model_module_version": "1.5.0",
            "_view_count": null,
            "_view_module_version": "1.2.0",
            "_model_module": "@jupyter-widgets/controls"
          }
        },
        "4b85d281b00d4da3a5658a85a750ea0a": {
          "model_module": "@jupyter-widgets/base",
          "model_name": "LayoutModel",
          "state": {
            "_view_name": "LayoutView",
            "grid_template_rows": null,
            "right": null,
            "justify_content": null,
            "_view_module": "@jupyter-widgets/base",
            "overflow": null,
            "_model_module_version": "1.2.0",
            "_view_count": null,
            "flex_flow": null,
            "width": null,
            "min_width": null,
            "border": null,
            "align_items": null,
            "bottom": null,
            "_model_module": "@jupyter-widgets/base",
            "top": null,
            "grid_column": null,
            "overflow_y": null,
            "overflow_x": null,
            "grid_auto_flow": null,
            "grid_area": null,
            "grid_template_columns": null,
            "flex": null,
            "_model_name": "LayoutModel",
            "justify_items": null,
            "grid_row": null,
            "max_height": null,
            "align_content": null,
            "visibility": null,
            "align_self": null,
            "height": null,
            "min_height": null,
            "padding": null,
            "grid_auto_rows": null,
            "grid_gap": null,
            "max_width": null,
            "order": null,
            "_view_module_version": "1.2.0",
            "grid_template_areas": null,
            "object_position": null,
            "object_fit": null,
            "grid_auto_columns": null,
            "margin": null,
            "display": null,
            "left": null
          }
        }
      }
    }
  },
  "cells": [
    {
      "cell_type": "markdown",
      "metadata": {
        "id": "view-in-github",
        "colab_type": "text"
      },
      "source": [
        "<a href=\"https://colab.research.google.com/github/pbcquoc/vietocr/blob/master/vietocr_gettingstart.ipynb\" target=\"_parent\"><img src=\"https://colab.research.google.com/assets/colab-badge.svg\" alt=\"Open In Colab\"/></a>"
      ]
    },
    {
      "cell_type": "markdown",
      "metadata": {
        "colab_type": "text",
        "id": "uPgu4i1yvhub"
      },
      "source": [
        "\n",
        "# Introduction\n",
        "<p align=\"center\">\n",
        "<img src=\"https://raw.githubusercontent.com/pbcquoc/vietocr/master/image/vietocr.jpg\" width=\"512\" height=\"512\">\n",
        "</p>\n",
        "This notebook describe how you can use VietOcr to train OCR model\n",
        "\n",
        "\n"
      ]
    },
    {
      "cell_type": "code",
      "metadata": {
        "colab_type": "code",
        "id": "xEBHav_aljVN",
        "colab": {
          "base_uri": "https://localhost:8080/",
          "height": 106
        },
        "outputId": "4b8375dc-d6dc-4395-9fc2-ab29c35dfa32"
      },
      "source": [
        "! pip install --quiet vietocr==0.1.9"
      ],
      "execution_count": 1,
      "outputs": [
        {
          "output_type": "stream",
          "text": [
            "\u001b[?25l\r\u001b[K     |████████                        | 10kB 35.8MB/s eta 0:00:01\r\u001b[K     |████████████████                | 20kB 2.9MB/s eta 0:00:01\r\u001b[K     |████████████████████████        | 30kB 3.9MB/s eta 0:00:01\r\u001b[K     |████████████████████████████████| 40kB 2.8MB/s \n",
            "\u001b[?25h  Installing build dependencies ... \u001b[?25l\u001b[?25hdone\n",
            "  Getting requirements to build wheel ... \u001b[?25l\u001b[?25hdone\n",
            "    Preparing wheel metadata ... \u001b[?25l\u001b[?25hdone\n",
            "  Building wheel for gdown (PEP 517) ... \u001b[?25l\u001b[?25hdone\n"
          ],
          "name": "stdout"
        }
      ]
    },
    {
      "cell_type": "markdown",
      "metadata": {
        "id": "IS1cz5tKxio7",
        "colab_type": "text"
      },
      "source": [
        "# Inference"
      ]
    },
    {
      "cell_type": "code",
      "metadata": {
        "id": "KsuT5Sa-xio8",
        "colab_type": "code",
        "colab": {}
      },
      "source": [
        "import matplotlib.pyplot as plt\n",
        "from PIL import Image\n",
        "\n",
        "from vietocr.tool.predictor import Predictor\n",
        "from vietocr.tool.config import Cfg"
      ],
      "execution_count": 2,
      "outputs": []
    },
    {
      "cell_type": "code",
      "metadata": {
        "id": "J7u5QgLWxipC",
        "colab_type": "code",
        "colab": {}
      },
      "source": [
        "config = Cfg.load_config_from_name('vgg_transformer')"
      ],
      "execution_count": 3,
      "outputs": []
    },
    {
      "cell_type": "markdown",
      "metadata": {
        "id": "S5JIpythxipL",
        "colab_type": "text"
      },
      "source": [
        "Change weights to your weights or using default weights from our pretrained model. Path can be url or local file"
      ]
    },
    {
      "cell_type": "code",
      "metadata": {
        "id": "UjiubW0gxipL",
        "colab_type": "code",
        "colab": {}
      },
      "source": [
        "# config['weights'] = './weights/transformerocr.pth'\n",
        "config['weights'] = 'https://drive.google.com/uc?id=13327Y1tz1ohsm5YZMyXVMPIOjoOA0OaA'\n",
        "config['device'] = 'cuda:0'\n",
        "config['predictor']['beamsearch']=False"
      ],
      "execution_count": 4,
      "outputs": []
    },
    {
      "cell_type": "code",
      "metadata": {
        "id": "HjHpH99TxipQ",
        "colab_type": "code",
        "colab": {
          "base_uri": "https://localhost:8080/",
          "height": 174,
          "referenced_widgets": [
            "252518623fb4488197375100b68f8be0",
            "bb125d7d215d4718b2469c2fc45b6316",
            "4504aeeffe244db398a18e0b1a28f1b9",
            "f4db31aaea044ba9bd00fe08362b68b9",
            "ea91bf2c0275458e994046f24135fdb0",
            "e4412677cf3c4fc1a3fd37d73bee042c",
            "3f6b754f5d5f4407b2e139d44aa16d78",
            "4b85d281b00d4da3a5658a85a750ea0a"
          ]
        },
        "outputId": "a1090dca-7f29-4ea1-9435-92ea9ad0c48b"
      },
      "source": [
        "detector = Predictor(config)"
      ],
      "execution_count": 5,
      "outputs": [
        {
          "output_type": "stream",
          "text": [
            "Downloading: \"https://download.pytorch.org/models/vgg19_bn-c79401a0.pth\" to /root/.cache/torch/checkpoints/vgg19_bn-c79401a0.pth\n"
          ],
          "name": "stderr"
        },
        {
          "output_type": "display_data",
          "data": {
            "application/vnd.jupyter.widget-view+json": {
              "model_id": "252518623fb4488197375100b68f8be0",
              "version_minor": 0,
              "version_major": 2
            },
            "text/plain": [
              "HBox(children=(FloatProgress(value=0.0, max=574769405.0), HTML(value='')))"
            ]
          },
          "metadata": {
            "tags": []
          }
        },
        {
          "output_type": "stream",
          "text": [
            "\n"
          ],
          "name": "stdout"
        },
        {
          "output_type": "stream",
          "text": [
            "Cached Downloading: /root/.cache/gdown/https-COLON--SLASH--SLASH-drive.google.com-SLASH-uc-QUESTION-id-EQUAL-13327Y1tz1ohsm5YZMyXVMPIOjoOA0OaA\n",
            "Downloading...\n",
            "From: https://drive.google.com/uc?id=13327Y1tz1ohsm5YZMyXVMPIOjoOA0OaA\n",
            "To: /root/.cache/gdown/tmp0ph4nn6q/dl\n",
            "152MB [00:00, 248MB/s]\n"
          ],
          "name": "stderr"
        }
      ]
    },
    {
      "cell_type": "code",
      "metadata": {
        "id": "BHtnhkpsxipZ",
        "colab_type": "code",
        "colab": {
          "base_uri": "https://localhost:8080/",
          "height": 88
        },
        "outputId": "c1767a15-da15-46fe-ff4b-2490bddfe7a7"
      },
      "source": [
        "! gdown --id 1uMVd6EBjY4Q0G2IkU5iMOQ34X0bysm0b\n",
        "! unzip  -qq -o sample.zip"
      ],
      "execution_count": 6,
      "outputs": [
        {
          "output_type": "stream",
          "text": [
            "Downloading...\n",
            "From: https://drive.google.com/uc?id=1uMVd6EBjY4Q0G2IkU5iMOQ34X0bysm0b\n",
            "To: /content/sample.zip\n",
            "\r  0% 0.00/306k [00:00<?, ?B/s]\r100% 306k/306k [00:00<00:00, 147MB/s]\n"
          ],
          "name": "stdout"
        }
      ]
    },
    {
      "cell_type": "code",
      "metadata": {
        "id": "nGpmXki1xipe",
        "colab_type": "code",
        "colab": {
          "base_uri": "https://localhost:8080/",
          "height": 106
        },
        "outputId": "070014c4-4bc3-43a0-bfa4-50c5fd9c828d"
      },
      "source": [
        "! ls sample | shuf |head -n 5"
      ],
      "execution_count": 20,
      "outputs": [
        {
          "output_type": "stream",
          "text": [
            "072084003708.jpeg\n",
            "072199003062.jpeg\n",
            "deskewed-2019_09_16_nguyen_thi_hoai_thanh_2019091614580813_18.jpg\n",
            "2019_10_05_phung_vu_minh_phong_201910051031556_8.jpg\n",
            "036183007715.jpeg\n"
          ],
          "name": "stdout"
        }
      ]
    },
    {
      "cell_type": "code",
      "metadata": {
        "id": "B95BBXNExipj",
        "colab_type": "code",
        "colab": {
          "base_uri": "https://localhost:8080/",
          "height": 122
        },
        "outputId": "c7c6c1a1-fff2-4147-f831-bedfb40ee399"
      },
      "source": [
        "img = './sample/072199003062.jpeg'\n",
        "img = Image.open(img)\n",
        "plt.imshow(img)\n",
        "s = detector.predict(img)\n",
        "s"
      ],
      "execution_count": 22,
      "outputs": [
        {
          "output_type": "execute_result",
          "data": {
            "application/vnd.google.colaboratory.intrinsic+json": {
              "type": "string"
            },
            "text/plain": [
              "'PHAN THỊ HỒNG THÂM'"
            ]
          },
          "metadata": {
            "tags": []
          },
          "execution_count": 22
        },
        {
          "output_type": "display_data",
          "data": {
            "image/png": "[encoded data removed]",
            "text/plain": [
              "<Figure size 432x288 with 1 Axes>"
            ]
          },
          "metadata": {
            "tags": [],
            "needs_background": "light"
          }
        }
      ]
    },
    {
      "cell_type": "markdown",
      "metadata": {
        "colab_type": "text",
        "id": "O9zjgHwN2vuC"
      },
      "source": [
        "# Download sample dataset"
      ]
    },
    {
      "cell_type": "code",
      "metadata": {
        "colab_type": "code",
        "id": "kMMAabbInNe3",
        "colab": {
          "base_uri": "https://localhost:8080/",
          "height": 88
        },
        "outputId": "edf92826-5a51-4a92-87af-89ebc18af471"
      },
      "source": [
        "! gdown https://drive.google.com/uc?id=1W2PZC94sjpA1lS7FN33VoIVleSnnWOaA "
      ],
      "execution_count": 23,
      "outputs": [
        {
          "output_type": "stream",
          "text": [
            "Downloading...\n",
            "From: https://drive.google.com/uc?id=1W2PZC94sjpA1lS7FN33VoIVleSnnWOaA\n",
            "To: /content/data.zip\n",
            "1.49GB [00:06, 240MB/s]\n"
          ],
          "name": "stdout"
        }
      ]
    },
    {
      "cell_type": "code",
      "metadata": {
        "colab_type": "code",
        "id": "ZEBWugoTnvy0",
        "colab": {}
      },
      "source": [
        "! unzip -qq -o ./data.zip"
      ],
      "execution_count": 24,
      "outputs": []
    },
    {
      "cell_type": "markdown",
      "metadata": {
        "colab_type": "text",
        "id": "F1lxSkEj20y0"
      },
      "source": [
        "# Train model"
      ]
    },
    {
      "cell_type": "markdown",
      "metadata": {
        "colab_type": "text",
        "id": "-MWgUSotv1sN"
      },
      "source": [
        "\n",
        "\n",
        "1.   Load your config\n",
        "2.   Train model using your dataset above\n",
        "\n"
      ]
    },
    {
      "cell_type": "markdown",
      "metadata": {
        "colab_type": "text",
        "id": "BuzRB0rxwC3m"
      },
      "source": [
        "Load the default config, we adopt VGG for image feature extraction"
      ]
    },
    {
      "cell_type": "code",
      "metadata": {
        "colab_type": "code",
        "id": "jMwREzEvm_jd",
        "colab": {}
      },
      "source": [
        "from vietocr.tool.config import Cfg\n",
        "from vietocr.model.trainer import Trainer"
      ],
      "execution_count": 25,
      "outputs": []
    },
    {
      "cell_type": "markdown",
      "metadata": {
        "colab_type": "text",
        "id": "7oKRCu2ewNE4"
      },
      "source": [
        "# Change the config \n",
        "\n",
        "* *data_root*: the folder save your all images\n",
        "* *train_annotation*: path to train annotation\n",
        "* *valid_annotation*: path to valid annotation\n",
        "* *print_every*: show train loss at every n steps\n",
        "* *valid_every*: show validation loss at every n steps\n",
        "* *iters*: number of iteration to train your model\n",
        "* *export*: export weights to folder that you can use for inference\n",
        "* *metrics*: number of sample in validation annotation you use for computing full_sequence_accuracy, for large dataset it will take too long, then you can reuduce this number\n"
      ]
    },
    {
      "cell_type": "code",
      "metadata": {
        "colab_type": "code",
        "id": "56VBD-Xy_ztj",
        "colab": {}
      },
      "source": [
        "config = Cfg.load_config_from_name('vgg_transformer')"
      ],
      "execution_count": 26,
      "outputs": []
    },
    {
      "cell_type": "code",
      "metadata": {
        "colab_type": "code",
        "id": "ceKcT5eOnJ1G",
        "colab": {}
      },
      "source": [
        "dataset_params = {\n",
        "    'name':'hw',\n",
        "    'data_root':'./data/',\n",
        "    'train_annotation':'train_annotation.txt',\n",
        "    'valid_annotation':'test_annotation.txt'\n",
        "}\n",
        "\n",
        "params = {\n",
        "         'print_every':200,\n",
        "         'valid_every':15*200,\n",
        "          'iters':20000,\n",
        "          'checkpoint':'./checkpoint/transformerocr_checkpoint.pth',    \n",
        "          'export':'./weights/transformerocr.pth',\n",
        "          'metrics': 10000\n",
        "         }\n",
        "\n",
        "config['trainer'].update(params)\n",
        "config['dataset'].update(dataset_params)\n",
        "config['device'] = 'cuda:0'"
      ],
      "execution_count": 27,
      "outputs": []
    },
    {
      "cell_type": "markdown",
      "metadata": {
        "id": "Ufc86K0axiqN",
        "colab_type": "text"
      },
      "source": [
        "you can change any of these params in this full list below"
      ]
    },
    {
      "cell_type": "code",
      "metadata": {
        "colab_type": "code",
        "id": "AwHpqqQEnHv1",
        "colab": {
          "base_uri": "https://localhost:8080/",
          "height": 695
        },
        "outputId": "31e15b91-b605-4c5a-b336-7e718caacc96"
      },
      "source": [
        "config"
      ],
      "execution_count": 28,
      "outputs": [
        {
          "output_type": "execute_result",
          "data": {
            "text/plain": [
              "{'backbone': 'vgg19_bn',\n",
              " 'cnn': {'hidden': 256,\n",
              "  'ks': [[2, 2], [2, 2], [2, 1], [2, 1], [1, 1]],\n",
              "  'ss': [[2, 2], [2, 2], [2, 1], [2, 1], [1, 1]]},\n",
              " 'dataloader': {'num_workers': 3, 'pin_memory': True},\n",
              " 'dataset': {'data_root': './data/',\n",
              "  'image_height': 32,\n",
              "  'image_max_width': 512,\n",
              "  'image_min_width': 32,\n",
              "  'name': 'hw',\n",
              "  'train_annotation': 'train_annotation.txt',\n",
              "  'valid_annotation': 'test_annotation.txt'},\n",
              " 'device': 'cuda:0',\n",
              " 'optimizer': {'init_lr': 0.1, 'n_warmup_steps': 4000},\n",
              " 'predictor': {'beamsearch': True},\n",
              " 'pretrain': {'cached': '/tmp/tranformerorc.pth',\n",
              "  'id_or_url': '13327Y1tz1ohsm5YZMyXVMPIOjoOA0OaA',\n",
              "  'md5': '9cc606b70460261de374c56548aead5b'},\n",
              " 'quiet': False,\n",
              " 'trainer': {'batch_size': 32,\n",
              "  'checkpoint': './checkpoint/transformerocr_checkpoint.pth',\n",
              "  'export': './weights/transformerocr.pth',\n",
              "  'iters': 20000,\n",
              "  'log': './train.log',\n",
              "  'metrics': 10000,\n",
              "  'print_every': 200,\n",
              "  'valid_every': 3000},\n",
              " 'transformer': {'d_model': 256,\n",
              "  'dim_feedforward': 2048,\n",
              "  'max_seq_length': 1024,\n",
              "  'nhead': 8,\n",
              "  'num_decoder_layers': 6,\n",
              "  'num_encoder_layers': 6,\n",
              "  'pos_dropout': 0.1,\n",
              "  'trans_dropout': 0.1},\n",
              " 'vocab': 'aAàÀảẢãÃáÁạẠăĂằẰẳẲẵẴắẮặẶâÂầẦẩẨẫẪấẤậẬbBcCdDđĐeEèÈẻẺẽẼéÉẹẸêÊềỀểỂễỄếẾệỆfFgGhHiIìÌỉỈĩĨíÍịỊjJkKlLmMnNoOòÒỏỎõÕóÓọỌôÔồỒổỔỗỖốỐộỘơƠờỜởỞỡỠớỚợỢpPqQrRsStTuUùÙủỦũŨúÚụỤưƯừỪửỬữỮứỨựỰvVwWxXyYỳỲỷỶỹỸýÝỵỴzZ0123456789!\"#$%&\\'()*+,-./:;<=>?@[\\\\]^_`{|}~ ',\n",
              " 'weights': 'https://drive.google.com/uc?id=12dTOZ9VP7ZVzwQgVvqBWz5JO5RXXW5NY'}"
            ]
          },
          "metadata": {
            "tags": []
          },
          "execution_count": 28
        }
      ]
    },
    {
      "cell_type": "markdown",
      "metadata": {
        "colab_type": "text",
        "id": "8dxTXpqa3Hd3"
      },
      "source": [
        "You should train model from our pretrained "
      ]
    },
    {
      "cell_type": "code",
      "metadata": {
        "colab_type": "code",
        "id": "xtOyT8Cpo1gl",
        "colab": {
          "base_uri": "https://localhost:8080/",
          "height": 248
        },
        "outputId": "3e5608dc-d201-4567-86d7-9264a56fc16c"
      },
      "source": [
        "trainer = Trainer(config, pretrained=True)"
      ],
      "execution_count": 29,
      "outputs": [
        {
          "output_type": "stream",
          "text": [
            "Cached Downloading: /tmp/tranformerorc.pth\n",
            "Downloading...\n",
            "From: https://drive.google.com/uc?id=13327Y1tz1ohsm5YZMyXVMPIOjoOA0OaA\n",
            "To: /root/.cache/gdown/tmps7nhnu1x/dl\n",
            "152MB [00:00, 309MB/s]\n"
          ],
          "name": "stderr"
        },
        {
          "output_type": "stream",
          "text": [
            "Computing MD5: /tmp/tranformerorc.pth\n",
            "MD5 matches: /tmp/tranformerorc.pth\n"
          ],
          "name": "stdout"
        },
        {
          "output_type": "stream",
          "text": [
            "Create train_hw: 100%|███████████████████████████████████████| 88531/88531 [03:33<00:00, 415.39it/s]\n",
            "train_hw build cluster:  16%|████▌                        | 13938/88530 [00:00<00:00, 139378.80it/s]"
          ],
          "name": "stderr"
        },
        {
          "output_type": "stream",
          "text": [
            "Created dataset with 88530 samples\n"
          ],
          "name": "stdout"
        },
        {
          "output_type": "stream",
          "text": [
            "train_hw build cluster: 100%|█████████████████████████████| 88530/88530 [00:00<00:00, 168690.82it/s]\n",
            "Create valid_hw: 100%|███████████████████████████████████████| 29511/29511 [01:29<00:00, 329.86it/s]\n",
            "valid_hw build cluster:  48%|██████████████               | 14299/29510 [00:00<00:00, 142984.68it/s]"
          ],
          "name": "stderr"
        },
        {
          "output_type": "stream",
          "text": [
            "Created dataset with 29510 samples\n"
          ],
          "name": "stdout"
        },
        {
          "output_type": "stream",
          "text": [
            "valid_hw build cluster: 100%|█████████████████████████████| 29510/29510 [00:00<00:00, 137838.24it/s]\n"
          ],
          "name": "stderr"
        }
      ]
    },
    {
      "cell_type": "markdown",
      "metadata": {
        "id": "gyL8nmmTxiqV",
        "colab_type": "text"
      },
      "source": [
        "Visualize your dataset to check data augmentation is appropriate"
      ]
    },
    {
      "cell_type": "code",
      "metadata": {
        "id": "OET9Vh8XxiqV",
        "colab_type": "code",
        "colab": {
          "base_uri": "https://localhost:8080/",
          "height": 1000
        },
        "outputId": "df140c9a-2ad2-45ab-8787-011bce2bc7cc"
      },
      "source": [
        "trainer.visualize_dataset()"
      ],
      "execution_count": 30,
      "outputs": [
        {
          "output_type": "display_data",
          "data": {
            "image/png": "[encoded data removed]",
            "text/plain": [
              "<Figure size 432x288 with 1 Axes>"
            ]
          },
          "metadata": {
            "tags": [],
            "needs_background": "light"
          }
        },
        {
          "output_type": "display_data",
          "data": {
            "image/png": "[encoded data removed]",
            "text/plain": [
              "<Figure size 432x288 with 1 Axes>"
            ]
          },
          "metadata": {
            "tags": [],
            "needs_background": "light"
          }
        },
        {
          "output_type": "display_data",
          "data": {
            "image/png": "[encoded data removed]",
            "text/plain": [
              "<Figure size 432x288 with 1 Axes>"
            ]
          },
          "metadata": {
            "tags": [],
            "needs_background": "light"
          }
        },
        {
          "output_type": "display_data",
          "data": {
            "image/png": "[encoded data removed]",
            "text/plain": [
              "<Figure size 432x288 with 1 Axes>"
            ]
          },
          "metadata": {
            "tags": [],
            "needs_background": "light"
          }
        },
        {
          "output_type": "display_data",
          "data": {
            "image/png": "[encoded data removed]",
            "text/plain": [
              "<Figure size 432x288 with 1 Axes>"
            ]
          },
          "metadata": {
            "tags": [],
            "needs_background": "light"
          }
        },
        {
          "output_type": "display_data",
          "data": {
            "image/png": "[encoded data removed]",
            "text/plain": [
              "<Figure size 432x288 with 1 Axes>"
            ]
          },
          "metadata": {
            "tags": [],
            "needs_background": "light"
          }
        },
        {
          "output_type": "display_data",
          "data": {
            "image/png": "[encoded data removed]",
            "text/plain": [
              "<Figure size 432x288 with 1 Axes>"
            ]
          },
          "metadata": {
            "tags": [],
            "needs_background": "light"
          }
        },
        {
          "output_type": "display_data",
          "data": {
            "image/png": "[encoded data removed]",
            "text/plain": [
              "<Figure size 432x288 with 1 Axes>"
            ]
          },
          "metadata": {
            "tags": [],
            "needs_background": "light"
          }
        },
        {
          "output_type": "display_data",
          "data": {
            "image/png": "[encoded data removed]",
            "text/plain": [
              "<Figure size 432x288 with 1 Axes>"
            ]
          },
          "metadata": {
            "tags": [],
            "needs_background": "light"
          }
        },
        {
          "output_type": "display_data",
          "data": {
            "image/png": "[encoded data removed]",
            "text/plain": [
              "<Figure size 432x288 with 1 Axes>"
            ]
          },
          "metadata": {
            "tags": [],
            "needs_background": "light"
          }
        },
        {
          "output_type": "display_data",
          "data": {
            "image/png": "[encoded data removed]",
            "text/plain": [
              "<Figure size 432x288 with 1 Axes>"
            ]
          },
          "metadata": {
            "tags": [],
            "needs_background": "light"
          }
        },
        {
          "output_type": "display_data",
          "data": {
            "image/png": "[encoded data removed]",
            "text/plain": [
              "<Figure size 432x288 with 1 Axes>"
            ]
          },
          "metadata": {
            "tags": [],
            "needs_background": "light"
          }
        },
        {
          "output_type": "display_data",
          "data": {
            "image/png": "[encoded data removed]",
            "text/plain": [
              "<Figure size 432x288 with 1 Axes>"
            ]
          },
          "metadata": {
            "tags": [],
            "needs_background": "light"
          }
        },
        {
          "output_type": "display_data",
          "data": {
            "image/png": "[encoded data removed]",
            "text/plain": [
              "<Figure size 432x288 with 1 Axes>"
            ]
          },
          "metadata": {
            "tags": [],
            "needs_background": "light"
          }
        },
        {
          "output_type": "display_data",
          "data": {
            "image/png": "[encoded data removed]",
            "text/plain": [
              "<Figure size 432x288 with 1 Axes>"
            ]
          },
          "metadata": {
            "tags": [],
            "needs_background": "light"
          }
        },
        {
          "output_type": "display_data",
          "data": {
            "image/png": "[encoded data removed]",
            "text/plain": [
              "<Figure size 432x288 with 1 Axes>"
            ]
          },
          "metadata": {
            "tags": [],
            "needs_background": "light"
          }
        }
      ]
    },
    {
      "cell_type": "markdown",
      "metadata": {
        "id": "6EkP2h64xiqZ",
        "colab_type": "text"
      },
      "source": [
        "Train now"
      ]
    },
    {
      "cell_type": "code",
      "metadata": {
        "colab_type": "code",
        "id": "fpZEz_DPpV6y",
        "colab": {
          "base_uri": "https://localhost:8080/",
          "height": 568
        },
        "outputId": "574de1cb-4d01-493e-bf9e-8806ac6da3b9"
      },
      "source": [
        "trainer.train()"
      ],
      "execution_count": null,
      "outputs": [
        {
          "output_type": "stream",
          "text": [
            "iter: 000200 - train loss: 1.493 - lr: 4.94e-06 - load time: 23.86 - gpu time: 43.44\n",
            "iter: 000400 - train loss: 1.111 - lr: 9.88e-06 - load time: 20.36 - gpu time: 43.70\n",
            "iter: 000600 - train loss: 0.950 - lr: 1.48e-05 - load time: 21.02 - gpu time: 43.74\n",
            "iter: 000800 - train loss: 0.870 - lr: 1.98e-05 - load time: 20.15 - gpu time: 43.87\n",
            "iter: 001000 - train loss: 0.794 - lr: 2.47e-05 - load time: 23.19 - gpu time: 43.36\n",
            "iter: 001200 - train loss: 0.784 - lr: 2.96e-05 - load time: 23.65 - gpu time: 42.83\n",
            "iter: 001400 - train loss: 0.776 - lr: 3.46e-05 - load time: 20.89 - gpu time: 44.83\n",
            "iter: 001600 - train loss: 0.748 - lr: 3.95e-05 - load time: 23.56 - gpu time: 42.69\n",
            "iter: 001800 - train loss: 0.739 - lr: 4.45e-05 - load time: 22.76 - gpu time: 42.44\n",
            "iter: 002000 - train loss: 0.726 - lr: 4.94e-05 - load time: 23.85 - gpu time: 41.67\n",
            "iter: 002200 - train loss: 0.766 - lr: 5.44e-05 - load time: 19.16 - gpu time: 44.66\n",
            "iter: 002400 - train loss: 0.748 - lr: 5.93e-05 - load time: 18.21 - gpu time: 45.08\n",
            "iter: 002600 - train loss: 0.741 - lr: 6.42e-05 - load time: 20.81 - gpu time: 44.03\n",
            "iter: 002800 - train loss: 0.731 - lr: 6.92e-05 - load time: 21.12 - gpu time: 43.36\n",
            "iter: 003000 - train loss: 0.724 - lr: 7.41e-05 - load time: 21.23 - gpu time: 43.58\n",
            "iter: 003000 - valid loss: 0.668 - acc full seq: 0.7414 - acc per char: 0.8675\n",
            "iter: 003200 - train loss: 0.710 - lr: 7.91e-05 - load time: 21.92 - gpu time: 41.59\n",
            "iter: 003400 - train loss: 0.721 - lr: 8.40e-05 - load time: 20.16 - gpu time: 42.84\n",
            "iter: 003600 - train loss: 0.699 - lr: 8.89e-05 - load time: 21.96 - gpu time: 42.41\n",
            "iter: 003800 - train loss: 0.704 - lr: 9.39e-05 - load time: 23.37 - gpu time: 40.89\n",
            "iter: 004000 - train loss: 0.717 - lr: 9.88e-05 - load time: 20.66 - gpu time: 42.61\n",
            "iter: 004200 - train loss: 0.720 - lr: 9.64e-05 - load time: 21.17 - gpu time: 42.67\n",
            "iter: 004400 - train loss: 0.680 - lr: 9.42e-05 - load time: 23.92 - gpu time: 41.35\n",
            "iter: 004600 - train loss: 0.683 - lr: 9.22e-05 - load time: 22.24 - gpu time: 41.84\n",
            "iter: 004800 - train loss: 0.688 - lr: 9.02e-05 - load time: 22.73 - gpu time: 40.76\n",
            "iter: 005000 - train loss: 0.719 - lr: 8.84e-05 - load time: 18.29 - gpu time: 44.06\n",
            "iter: 005200 - train loss: 0.672 - lr: 8.67e-05 - load time: 20.96 - gpu time: 42.34\n",
            "iter: 005400 - train loss: 0.700 - lr: 8.51e-05 - load time: 22.65 - gpu time: 41.03\n",
            "iter: 005600 - train loss: 0.677 - lr: 8.35e-05 - load time: 21.54 - gpu time: 42.66\n",
            "iter: 005800 - train loss: 0.693 - lr: 8.21e-05 - load time: 18.77 - gpu time: 44.25\n",
            "iter: 006000 - train loss: 0.670 - lr: 8.07e-05 - load time: 21.60 - gpu time: 42.44\n"
          ],
          "name": "stdout"
        }
      ]
    },
    {
      "cell_type": "markdown",
      "metadata": {
        "colab_type": "text",
        "id": "Iig6gpyb3jtz"
      },
      "source": [
        "Visualize prediction from our trained model\n"
      ]
    },
    {
      "cell_type": "code",
      "metadata": {
        "colab_type": "code",
        "id": "Zeai5W02qXA9",
        "colab": {}
      },
      "source": [
        "trainer.visualize_prediction()"
      ],
      "execution_count": null,
      "outputs": []
    },
    {
      "cell_type": "markdown",
      "metadata": {
        "colab_type": "text",
        "id": "-bAXlHJv3ryW"
      },
      "source": [
        "Compute full seq accuracy for full valid dataset"
      ]
    },
    {
      "cell_type": "code",
      "metadata": {
        "colab_type": "code",
        "id": "eM806O42q_aT",
        "colab": {}
      },
      "source": [
        "trainer.precision()"
      ],
      "execution_count": null,
      "outputs": []
    }
  ]
}